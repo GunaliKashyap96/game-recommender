{
  "nbformat": 4,
  "nbformat_minor": 0,
  "metadata": {
    "colab": {
      "provenance": []
    },
    "kernelspec": {
      "name": "python3",
      "display_name": "Python 3"
    },
    "language_info": {
      "name": "python"
    }
  },
  "cells": [
    {
      "cell_type": "code",
      "execution_count": 13,
      "metadata": {
        "colab": {
          "base_uri": "https://localhost:8080/",
          "height": 241
        },
        "id": "EV6qOhis8Hlg",
        "outputId": "556886b1-4600-4463-865f-483e542342d9"
      },
      "outputs": [
        {
          "output_type": "execute_result",
          "data": {
            "text/plain": [
              "6         New Super Mario Bros.\n",
              "8     New Super Mario Bros. Wii\n",
              "18            Super Mario World\n",
              "21             Super Mario Land\n",
              "22          Super Mario Bros. 3\n",
              "Name: Name, dtype: object"
            ],
            "text/html": [
              "<div>\n",
              "<style scoped>\n",
              "    .dataframe tbody tr th:only-of-type {\n",
              "        vertical-align: middle;\n",
              "    }\n",
              "\n",
              "    .dataframe tbody tr th {\n",
              "        vertical-align: top;\n",
              "    }\n",
              "\n",
              "    .dataframe thead th {\n",
              "        text-align: right;\n",
              "    }\n",
              "</style>\n",
              "<table border=\"1\" class=\"dataframe\">\n",
              "  <thead>\n",
              "    <tr style=\"text-align: right;\">\n",
              "      <th></th>\n",
              "      <th>Name</th>\n",
              "    </tr>\n",
              "  </thead>\n",
              "  <tbody>\n",
              "    <tr>\n",
              "      <th>6</th>\n",
              "      <td>New Super Mario Bros.</td>\n",
              "    </tr>\n",
              "    <tr>\n",
              "      <th>8</th>\n",
              "      <td>New Super Mario Bros. Wii</td>\n",
              "    </tr>\n",
              "    <tr>\n",
              "      <th>18</th>\n",
              "      <td>Super Mario World</td>\n",
              "    </tr>\n",
              "    <tr>\n",
              "      <th>21</th>\n",
              "      <td>Super Mario Land</td>\n",
              "    </tr>\n",
              "    <tr>\n",
              "      <th>22</th>\n",
              "      <td>Super Mario Bros. 3</td>\n",
              "    </tr>\n",
              "  </tbody>\n",
              "</table>\n",
              "</div><br><label><b>dtype:</b> object</label>"
            ]
          },
          "metadata": {},
          "execution_count": 13
        }
      ],
      "source": [
        "import pandas as pd\n",
        "import numpy as np\n",
        "import pandas as pd\n",
        "import numpy as np\n",
        "from sklearn.feature_extraction.text import TfidfVectorizer\n",
        "from sklearn.metrics.pairwise import linear_kernel\n",
        "\n",
        "\n",
        "\n",
        "# 1: Load the csv file\n",
        "df = pd.read_csv(\"/Video_Games_Sales_as_at_22_Dec_2016.csv\")\n",
        "\n",
        "\n",
        "# 2: Data cleaning (Drop rows with missing data)\n",
        "df = df.dropna(subset=['Name', 'Genre'])\n",
        "df = df[[\"Name\", \"Genre\"]].drop_duplicates()\n",
        "df.reset_index(drop=True, inplace=True)\n",
        "\n",
        "\n",
        "# 3: Turn genre into numbers\n",
        "tfidf = TfidfVectorizer(stop_words='english')\n",
        "tfidf_matrix = tfidf.fit_transform(df['Genre'])\n",
        "\n",
        "\n",
        "# 4: Compute similarity\n",
        "cosine_sim = linear_kernel(tfidf_matrix, tfidf_matrix)\n",
        "\n",
        "# 5: Build the recommendation function\n",
        "indices = pd.Series(df.index, index=df['Name']).drop_duplicates()\n",
        "\n",
        "def recommend_games(title, cosine_sim=cosine_sim):\n",
        "  idx = indices[title]\n",
        "\n",
        "  sim_scores = list(enumerate(cosine_sim[idx]))\n",
        "\n",
        "  sim_scores = sorted(sim_scores, key=lambda x: x[1], reverse=True)\n",
        "  sim_scores = sim_scores[1:6]\n",
        "\n",
        "  game_indices = [i[0] for i in sim_scores]\n",
        "\n",
        "  return df['Name'].iloc[game_indices]\n",
        "\n",
        "recommend_games(\"Super Mario Galaxy\")\n",
        "\n"
      ]
    }
  ]
}